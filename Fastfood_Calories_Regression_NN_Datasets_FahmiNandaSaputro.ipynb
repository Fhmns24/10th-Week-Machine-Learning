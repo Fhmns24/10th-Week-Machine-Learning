{
  "nbformat": 4,
  "nbformat_minor": 0,
  "metadata": {
    "colab": {
      "provenance": []
    },
    "kernelspec": {
      "name": "python3",
      "display_name": "Python 3"
    },
    "language_info": {
      "name": "python"
    }
  },
  "cells": [
    {
      "cell_type": "code",
      "execution_count": null,
      "metadata": {
        "id": "eWxBiu3fxiV8"
      },
      "outputs": [],
      "source": [
        "#Fahmi Nanda Saputro\n",
        "#1103200203"
      ]
    },
    {
      "cell_type": "code",
      "source": [
        "#menghubungkan google drive\n",
        "from google.colab import drive\n",
        "drive.mount('/content/drive')"
      ],
      "metadata": {
        "colab": {
          "base_uri": "https://localhost:8080/"
        },
        "id": "Qn2qLAtFxuPJ",
        "outputId": "21cea2d0-d8fc-4ede-fba7-fee865fa0bc9"
      },
      "execution_count": 1,
      "outputs": [
        {
          "output_type": "stream",
          "name": "stdout",
          "text": [
            "Mounted at /content/drive\n"
          ]
        }
      ]
    },
    {
      "cell_type": "code",
      "source": [
        "#menghubungkan ke file directory\n",
        "file_path = '/content/drive/MyDrive/dataset/fastfood_calories.csv'"
      ],
      "metadata": {
        "id": "LhRQoAp3yE92"
      },
      "execution_count": 22,
      "outputs": []
    },
    {
      "cell_type": "code",
      "source": [
        "#Mengimport beberapa library dan beberapa model Keras\n",
        "import numpy as np\n",
        "import pandas as pd\n",
        "from sklearn.preprocessing import LabelEncoder\n",
        "from sklearn.model_selection import train_test_split\n",
        "from sklearn.metrics import r2_score\n",
        "from keras.models import Sequential\n",
        "from keras.layers import Dense"
      ],
      "metadata": {
        "id": "glCRXt2dyncu"
      },
      "execution_count": 23,
      "outputs": []
    },
    {
      "cell_type": "code",
      "source": [
        "#membaca file dari file_path\n",
        "dataset = pd.read_csv(file_path)\n",
        "\n",
        "#memilih kolom dari dataset sebagai fitur\n",
        "X = dataset.iloc[:, [4, 5]].values\n",
        "y = dataset.iloc[:, 3].values"
      ],
      "metadata": {
        "id": "c6QgwmOny1oO"
      },
      "execution_count": 38,
      "outputs": []
    },
    {
      "cell_type": "code",
      "source": [
        "#menggunakan LabaelEncoder untuk mengubah nilai pada kolom dari array X\n",
        "labelencoder_X = LabelEncoder()\n",
        "X[:, 0] = labelencoder_X.fit_transform(X[:, 0])"
      ],
      "metadata": {
        "id": "JEIaZN7YzNiU"
      },
      "execution_count": 39,
      "outputs": []
    },
    {
      "cell_type": "code",
      "source": [
        "#dataset akan displit dan di test\n",
        "X_train, X_test, y_train, y_test = train_test_split(X, y, test_size = 0.2, random_state = 42)"
      ],
      "metadata": {
        "id": "vmbrRmG4z0XI"
      },
      "execution_count": 40,
      "outputs": []
    },
    {
      "cell_type": "code",
      "source": [
        "#mengimpor kelas dari modul\n",
        "from sklearn.preprocessing import StandardScaler\n",
        "#membuat objek yang digunakan untuk standarisasi\n",
        "sc_X = StandardScaler()\n",
        "#melakukan standarisasi pada data latih\n",
        "X_train = sc_X.fit_transform(X_train)\n",
        "#menggunakan parameter standar yang telah dihitung dari data latih\n",
        "X_test = sc_X.transform(X_test)"
      ],
      "metadata": {
        "id": "hfP3u7XUz78u"
      },
      "execution_count": 41,
      "outputs": []
    },
    {
      "cell_type": "code",
      "source": [
        "#Membentuk model menggunakan Neural Network\n",
        "model = Sequential()\n",
        "model.add(Dense(6, kernel_initializer = 'uniform', activation = 'relu', input_dim = 2))\n",
        "model.add(Dense(6, kernel_initializer = 'uniform', activation = 'relu'))\n",
        "model.add(Dense(1, kernel_initializer = 'uniform', activation = 'linear'))"
      ],
      "metadata": {
        "id": "mouxZ6300mUp"
      },
      "execution_count": 42,
      "outputs": []
    },
    {
      "cell_type": "code",
      "source": [
        "#Model akan dicompile dengan Adam\n",
        "model.compile(optimizer = 'adam', loss = 'mean_squared_error')"
      ],
      "metadata": {
        "id": "IuwTyS5h0zx_"
      },
      "execution_count": 43,
      "outputs": []
    },
    {
      "cell_type": "code",
      "source": [
        "#memulai proses pelatihan\n",
        "model.fit(X_train, y_train, batch_size = 10, epochs = 100)"
      ],
      "metadata": {
        "colab": {
          "base_uri": "https://localhost:8080/"
        },
        "id": "JvXVz1k706Oq",
        "outputId": "a6ae7204-fd34-4635-d722-727e74306366"
      },
      "execution_count": 44,
      "outputs": [
        {
          "output_type": "stream",
          "name": "stdout",
          "text": [
            "Epoch 1/100\n",
            "42/42 [==============================] - 1s 2ms/step - loss: 352461.4375\n",
            "Epoch 2/100\n",
            "42/42 [==============================] - 0s 2ms/step - loss: 352379.0625\n",
            "Epoch 3/100\n",
            "42/42 [==============================] - 0s 2ms/step - loss: 352201.2812\n",
            "Epoch 4/100\n",
            "42/42 [==============================] - 0s 2ms/step - loss: 351808.9375\n",
            "Epoch 5/100\n",
            "42/42 [==============================] - 0s 2ms/step - loss: 351075.3750\n",
            "Epoch 6/100\n",
            "42/42 [==============================] - 0s 2ms/step - loss: 349863.8125\n",
            "Epoch 7/100\n",
            "42/42 [==============================] - 0s 2ms/step - loss: 348124.2188\n",
            "Epoch 8/100\n",
            "42/42 [==============================] - 0s 2ms/step - loss: 345776.4688\n",
            "Epoch 9/100\n",
            "42/42 [==============================] - 0s 2ms/step - loss: 342747.7812\n",
            "Epoch 10/100\n",
            "42/42 [==============================] - 0s 2ms/step - loss: 338842.6562\n",
            "Epoch 11/100\n",
            "42/42 [==============================] - 0s 2ms/step - loss: 334197.4375\n",
            "Epoch 12/100\n",
            "42/42 [==============================] - 0s 2ms/step - loss: 328564.3750\n",
            "Epoch 13/100\n",
            "42/42 [==============================] - 0s 2ms/step - loss: 321966.2188\n",
            "Epoch 14/100\n",
            "42/42 [==============================] - 0s 2ms/step - loss: 314442.4375\n",
            "Epoch 15/100\n",
            "42/42 [==============================] - 0s 7ms/step - loss: 305925.9375\n",
            "Epoch 16/100\n",
            "42/42 [==============================] - 0s 5ms/step - loss: 296514.6875\n",
            "Epoch 17/100\n",
            "42/42 [==============================] - 0s 2ms/step - loss: 286155.0000\n",
            "Epoch 18/100\n",
            "42/42 [==============================] - 0s 2ms/step - loss: 275090.2188\n",
            "Epoch 19/100\n",
            "42/42 [==============================] - 0s 2ms/step - loss: 263054.0625\n",
            "Epoch 20/100\n",
            "42/42 [==============================] - 0s 2ms/step - loss: 250402.6406\n",
            "Epoch 21/100\n",
            "42/42 [==============================] - 0s 2ms/step - loss: 237299.4375\n",
            "Epoch 22/100\n",
            "42/42 [==============================] - 0s 2ms/step - loss: 223560.4219\n",
            "Epoch 23/100\n",
            "42/42 [==============================] - 0s 2ms/step - loss: 209400.2344\n",
            "Epoch 24/100\n",
            "42/42 [==============================] - 0s 2ms/step - loss: 195233.7656\n",
            "Epoch 25/100\n",
            "42/42 [==============================] - 0s 2ms/step - loss: 180859.5312\n",
            "Epoch 26/100\n",
            "42/42 [==============================] - 0s 2ms/step - loss: 166676.4062\n",
            "Epoch 27/100\n",
            "42/42 [==============================] - 0s 2ms/step - loss: 152779.4219\n",
            "Epoch 28/100\n",
            "42/42 [==============================] - 0s 2ms/step - loss: 139078.0312\n",
            "Epoch 29/100\n",
            "42/42 [==============================] - 0s 2ms/step - loss: 125849.3594\n",
            "Epoch 30/100\n",
            "42/42 [==============================] - 0s 2ms/step - loss: 113363.0078\n",
            "Epoch 31/100\n",
            "42/42 [==============================] - 0s 2ms/step - loss: 101806.2031\n",
            "Epoch 32/100\n",
            "42/42 [==============================] - 0s 2ms/step - loss: 90923.7188\n",
            "Epoch 33/100\n",
            "42/42 [==============================] - 0s 3ms/step - loss: 81229.7266\n",
            "Epoch 34/100\n",
            "42/42 [==============================] - 0s 3ms/step - loss: 72375.7109\n",
            "Epoch 35/100\n",
            "42/42 [==============================] - 0s 3ms/step - loss: 64520.4180\n",
            "Epoch 36/100\n",
            "42/42 [==============================] - 0s 3ms/step - loss: 57707.0977\n",
            "Epoch 37/100\n",
            "42/42 [==============================] - 0s 3ms/step - loss: 51751.6953\n",
            "Epoch 38/100\n",
            "42/42 [==============================] - 0s 4ms/step - loss: 46829.5039\n",
            "Epoch 39/100\n",
            "42/42 [==============================] - 0s 3ms/step - loss: 42636.9023\n",
            "Epoch 40/100\n",
            "42/42 [==============================] - 0s 4ms/step - loss: 39180.8867\n",
            "Epoch 41/100\n",
            "42/42 [==============================] - 0s 4ms/step - loss: 36307.2344\n",
            "Epoch 42/100\n",
            "42/42 [==============================] - 0s 3ms/step - loss: 33904.1641\n",
            "Epoch 43/100\n",
            "42/42 [==============================] - 0s 5ms/step - loss: 31964.7188\n",
            "Epoch 44/100\n",
            "42/42 [==============================] - 0s 4ms/step - loss: 30337.5410\n",
            "Epoch 45/100\n",
            "42/42 [==============================] - 0s 3ms/step - loss: 28927.5918\n",
            "Epoch 46/100\n",
            "42/42 [==============================] - 0s 4ms/step - loss: 27742.0527\n",
            "Epoch 47/100\n",
            "42/42 [==============================] - 0s 4ms/step - loss: 26724.6367\n",
            "Epoch 48/100\n",
            "42/42 [==============================] - 0s 3ms/step - loss: 25823.9219\n",
            "Epoch 49/100\n",
            "42/42 [==============================] - 0s 3ms/step - loss: 25037.0410\n",
            "Epoch 50/100\n",
            "42/42 [==============================] - 0s 3ms/step - loss: 24339.9902\n",
            "Epoch 51/100\n",
            "42/42 [==============================] - 0s 3ms/step - loss: 23740.5293\n",
            "Epoch 52/100\n",
            "42/42 [==============================] - 0s 2ms/step - loss: 23166.8867\n",
            "Epoch 53/100\n",
            "42/42 [==============================] - 0s 2ms/step - loss: 22650.5723\n",
            "Epoch 54/100\n",
            "42/42 [==============================] - 0s 2ms/step - loss: 22200.1172\n",
            "Epoch 55/100\n",
            "42/42 [==============================] - 0s 2ms/step - loss: 21760.0430\n",
            "Epoch 56/100\n",
            "42/42 [==============================] - 0s 4ms/step - loss: 21380.1680\n",
            "Epoch 57/100\n",
            "42/42 [==============================] - 0s 4ms/step - loss: 21042.3379\n",
            "Epoch 58/100\n",
            "42/42 [==============================] - 0s 4ms/step - loss: 20718.9434\n",
            "Epoch 59/100\n",
            "42/42 [==============================] - 0s 3ms/step - loss: 20420.5977\n",
            "Epoch 60/100\n",
            "42/42 [==============================] - 0s 3ms/step - loss: 20161.9102\n",
            "Epoch 61/100\n",
            "42/42 [==============================] - 0s 4ms/step - loss: 19883.8594\n",
            "Epoch 62/100\n",
            "42/42 [==============================] - 0s 3ms/step - loss: 19663.7715\n",
            "Epoch 63/100\n",
            "42/42 [==============================] - 0s 3ms/step - loss: 19458.1738\n",
            "Epoch 64/100\n",
            "42/42 [==============================] - 0s 4ms/step - loss: 19244.6934\n",
            "Epoch 65/100\n",
            "42/42 [==============================] - 0s 4ms/step - loss: 19079.8652\n",
            "Epoch 66/100\n",
            "42/42 [==============================] - 0s 4ms/step - loss: 18912.7383\n",
            "Epoch 67/100\n",
            "42/42 [==============================] - 0s 4ms/step - loss: 18762.0820\n",
            "Epoch 68/100\n",
            "42/42 [==============================] - 0s 4ms/step - loss: 18627.4355\n",
            "Epoch 69/100\n",
            "42/42 [==============================] - 0s 4ms/step - loss: 18498.8867\n",
            "Epoch 70/100\n",
            "42/42 [==============================] - 0s 4ms/step - loss: 18387.2051\n",
            "Epoch 71/100\n",
            "42/42 [==============================] - 0s 4ms/step - loss: 18275.9473\n",
            "Epoch 72/100\n",
            "42/42 [==============================] - 0s 4ms/step - loss: 18180.8438\n",
            "Epoch 73/100\n",
            "42/42 [==============================] - 0s 3ms/step - loss: 18079.8730\n",
            "Epoch 74/100\n",
            "42/42 [==============================] - 0s 3ms/step - loss: 18002.9590\n",
            "Epoch 75/100\n",
            "42/42 [==============================] - 0s 3ms/step - loss: 17918.7363\n",
            "Epoch 76/100\n",
            "42/42 [==============================] - 0s 3ms/step - loss: 17827.6387\n",
            "Epoch 77/100\n",
            "42/42 [==============================] - 0s 4ms/step - loss: 17760.7910\n",
            "Epoch 78/100\n",
            "42/42 [==============================] - 0s 3ms/step - loss: 17694.8730\n",
            "Epoch 79/100\n",
            "42/42 [==============================] - 0s 7ms/step - loss: 17632.6035\n",
            "Epoch 80/100\n",
            "42/42 [==============================] - 1s 16ms/step - loss: 17569.6230\n",
            "Epoch 81/100\n",
            "42/42 [==============================] - 0s 3ms/step - loss: 17516.7715\n",
            "Epoch 82/100\n",
            "42/42 [==============================] - 0s 3ms/step - loss: 17479.2344\n",
            "Epoch 83/100\n",
            "42/42 [==============================] - 0s 2ms/step - loss: 17419.9121\n",
            "Epoch 84/100\n",
            "42/42 [==============================] - 0s 2ms/step - loss: 17370.7285\n",
            "Epoch 85/100\n",
            "42/42 [==============================] - 0s 8ms/step - loss: 17359.1523\n",
            "Epoch 86/100\n",
            "42/42 [==============================] - 0s 6ms/step - loss: 17298.7188\n",
            "Epoch 87/100\n",
            "42/42 [==============================] - 0s 3ms/step - loss: 17254.9668\n",
            "Epoch 88/100\n",
            "42/42 [==============================] - 0s 2ms/step - loss: 17211.1426\n",
            "Epoch 89/100\n",
            "42/42 [==============================] - 0s 2ms/step - loss: 17187.7109\n",
            "Epoch 90/100\n",
            "42/42 [==============================] - 0s 2ms/step - loss: 17155.2637\n",
            "Epoch 91/100\n",
            "42/42 [==============================] - 0s 2ms/step - loss: 17144.1934\n",
            "Epoch 92/100\n",
            "42/42 [==============================] - 0s 2ms/step - loss: 17083.6934\n",
            "Epoch 93/100\n",
            "42/42 [==============================] - 0s 2ms/step - loss: 17062.9727\n",
            "Epoch 94/100\n",
            "42/42 [==============================] - 0s 2ms/step - loss: 17019.3242\n",
            "Epoch 95/100\n",
            "42/42 [==============================] - 0s 2ms/step - loss: 16982.9023\n",
            "Epoch 96/100\n",
            "42/42 [==============================] - 0s 3ms/step - loss: 16957.6270\n",
            "Epoch 97/100\n",
            "42/42 [==============================] - 0s 2ms/step - loss: 16937.8574\n",
            "Epoch 98/100\n",
            "42/42 [==============================] - 0s 2ms/step - loss: 16891.6953\n",
            "Epoch 99/100\n",
            "42/42 [==============================] - 0s 2ms/step - loss: 16851.6934\n",
            "Epoch 100/100\n",
            "42/42 [==============================] - 0s 2ms/step - loss: 16825.5020\n"
          ]
        },
        {
          "output_type": "execute_result",
          "data": {
            "text/plain": [
              "<keras.src.callbacks.History at 0x7f03bc768100>"
            ]
          },
          "metadata": {},
          "execution_count": 44
        }
      ]
    },
    {
      "cell_type": "markdown",
      "source": [
        "Pada program diatas akan dilakukan pelatihan model dengan fitur fitur serta target, batch yang digunakan adalah ukuran 15 serta epoch sebanyak 150. Hasilnya, model akan memiliki parameter-parameter yang telah disesuaikan sehingga dapat membuat prediksi yang baik pada data baru yang belum pernah dilihat sebelumnya."
      ],
      "metadata": {
        "id": "hl1a3U-Z1SIw"
      }
    },
    {
      "cell_type": "code",
      "source": [
        "#predict model dari test sebelumnya\n",
        "y_pred = model.predict(X_test)"
      ],
      "metadata": {
        "colab": {
          "base_uri": "https://localhost:8080/"
        },
        "id": "A2t4NNlm1jjJ",
        "outputId": "02d45750-b342-4a57-8fb8-bdec0ca98c1b"
      },
      "execution_count": 46,
      "outputs": [
        {
          "output_type": "stream",
          "name": "stdout",
          "text": [
            "4/4 [==============================] - 0s 4ms/step\n"
          ]
        }
      ]
    },
    {
      "cell_type": "code",
      "source": [
        "#evaluasi model yang sudah dilakukan\n",
        "print(f\"R2 Score = {r2_score(y_test, y_pred)}\")"
      ],
      "metadata": {
        "colab": {
          "base_uri": "https://localhost:8080/"
        },
        "id": "_z-09VXn2G6J",
        "outputId": "4e4f2c26-3fe6-4bc2-d752-8ec03ddead31"
      },
      "execution_count": 47,
      "outputs": [
        {
          "output_type": "stream",
          "name": "stdout",
          "text": [
            "R2 Score = 0.8544603393596478\n"
          ]
        }
      ]
    }
  ]
}